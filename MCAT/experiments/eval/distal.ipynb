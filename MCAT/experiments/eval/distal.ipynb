{
 "cells": [
  {
   "cell_type": "markdown",
   "metadata": {},
   "source": [
    "# Distal Results"
   ]
  },
  {
   "cell_type": "markdown",
   "metadata": {},
   "source": [
    "Evaluation against distal adversarial examples."
   ]
  },
  {
   "cell_type": "markdown",
   "metadata": {},
   "source": [
    "Check `experiments/misc.py` for details on the used methods."
   ]
  },
  {
   "cell_type": "markdown",
   "metadata": {},
   "source": [
    "Make sure to set the paths and GPU id below:"
   ]
  },
  {
   "cell_type": "code",
   "execution_count": null,
   "metadata": {},
   "outputs": [],
   "source": [
    "import os\n",
    "import sys\n",
    "sys.path.insert(1, os.path.abspath('') + '/../../')\n",
    "from experiments.eval import misc\n",
    "import torch\n",
    "torch.cuda.set_device(0)\n",
    "from IPython.display import display, Markdown"
   ]
  },
  {
   "cell_type": "code",
   "execution_count": null,
   "metadata": {},
   "outputs": [],
   "source": [
    "config_module = 'config.cifar10'\n",
    "config_training_variables = [\n",
    "    'normal_training_check',\n",
    "]\n",
    "if config_module == 'config.svhn':\n",
    "    config_training_variables += [\n",
    "        # For MNIST:\n",
    "        'adversarial_training_lr005_i40_half_momentum_backtrack_check',\n",
    "        'confidence_calibrated_adversarial_training_lr001_ce_f7p_i40_random_momentum_backtrack_power2_10',\n",
    "        'multi_steepest_descent',\n",
    "    ]\n",
    "elif config_module == 'config.svhn':\n",
    "    config_training_variables += [\n",
    "        # For SVHN:\n",
    "        'adversarial_training_lr001_i40_half_momentum_backtrack_check',\n",
    "        'confidence_calibrated_adversarial_training_ce_f7p_i40_random_momentum_backtrack_power2_10',\n",
    "    ]\n",
    "elif config_module == 'config.cifar10':\n",
    "    config_training_variables += [\n",
    "        # For Cifar10:\n",
    "        'adversarial_training_lr0005_i40_half_momentum_backtrack_check',\n",
    "        'confidence_calibrated_adversarial_training_ce_f7p_i40_random_momentum_backtrack_power2_10',\n",
    "        'multi_steepest_descent',\n",
    "    ]\n",
    "else:\n",
    "    assert False\n",
    "config_attack_variables = [\n",
    "    'acet_testing_pgd_5_f0_max_log_0001_momentum_backtrack',\n",
    "    'acet_testing_smoothed_pgd_5_f0_max_log_0001_momentum_backtrack',\n",
    "    'acet_testing_pgd_50_f0_max_log_0001_momentum_backtrack_10',\n",
    "    'acet_testing_smoothed_pgd_50_f0_max_log_0001_momentum_backtrack_10',\n",
    "]"
   ]
  },
  {
   "cell_type": "code",
   "execution_count": null,
   "metadata": {},
   "outputs": [],
   "source": [
    "config, training_configs, attack_configs = misc.module(config_module, config_training_variables, config_attack_variables)"
   ]
  },
  {
   "cell_type": "code",
   "execution_count": null,
   "metadata": {},
   "outputs": [],
   "source": [
    "config_training_names = [\n",
    "    '\\\\Normal',\n",
    "    '\\\\AdvTrain',\n",
    "    '\\\\ConfTrain',\n",
    "    '\\\\Wong',\n",
    "]\n",
    "main_config_attack_groups = [\n",
    "    list(range(4)),\n",
    "]\n",
    "main_config_attack_names = [\n",
    "    '\\\\begin{tabular}{@{}c@{}}dist.\\\\\\\\\\\\vphantom{t}\\\\end{tabular}',\n",
    "]\n",
    "supp_config_attack_names = [\n",
    "    '\\\\Distal',\n",
    "]"
   ]
  },
  {
   "cell_type": "code",
   "execution_count": null,
   "metadata": {},
   "outputs": [],
   "source": [
    "model_files, model_epochs, perturbations_files, perturbations_epochs, new_config_training_variables, new_config_training_names = misc.load(training_configs, config_training_names, attack_configs)"
   ]
  },
  {
   "cell_type": "code",
   "execution_count": null,
   "metadata": {},
   "outputs": [],
   "source": [
    "display(Markdown(misc.epoch_table(model_epochs, perturbations_files, perturbations_epochs, config_training_names, attack_configs)))"
   ]
  },
  {
   "cell_type": "code",
   "execution_count": null,
   "metadata": {
    "scrolled": false
   },
   "outputs": [],
   "source": [
    "clean_probabilities = misc.compute_clean_probabilities(model_files, config.testloader)"
   ]
  },
  {
   "cell_type": "code",
   "execution_count": null,
   "metadata": {},
   "outputs": [],
   "source": [
    "clean_evaluations = misc.compute_clean_evaluations(config, clean_probabilities)"
   ]
  },
  {
   "cell_type": "code",
   "execution_count": null,
   "metadata": {},
   "outputs": [],
   "source": [
    "adversarial_probabilities = misc.load_adversarial_probabilities(perturbations_files)\n",
    "assert len(adversarial_probabilities) == len(clean_probabilities)"
   ]
  },
  {
   "cell_type": "code",
   "execution_count": null,
   "metadata": {},
   "outputs": [],
   "source": [
    "main_evaluations = misc.compute_adversarial_evaluations(config, perturbations_files, adversarial_probabilities, clean_probabilities, config_training_variables, config_attack_variables, main_config_attack_groups)"
   ]
  },
  {
   "cell_type": "code",
   "execution_count": null,
   "metadata": {},
   "outputs": [],
   "source": [
    "display(Markdown(misc.distal_markdown_table(main_evaluations, config_training_names, main_config_attack_names, tpr='99')))"
   ]
  },
  {
   "cell_type": "code",
   "execution_count": null,
   "metadata": {},
   "outputs": [],
   "source": [
    "misc.distal_main_latex_table(config, config_training_names, main_config_attack_names, main_evaluations, tpr='98')"
   ]
  },
  {
   "cell_type": "code",
   "execution_count": null,
   "metadata": {},
   "outputs": [],
   "source": [
    "misc.distal_main_latex_table(config, config_training_names, main_config_attack_names, main_evaluations, tpr='99')"
   ]
  },
  {
   "cell_type": "code",
   "execution_count": null,
   "metadata": {},
   "outputs": [],
   "source": [
    "misc.distal_supp_latex_table(config, config_training_names, supp_config_attack_names, main_evaluations, tpr='99')"
   ]
  },
  {
   "cell_type": "code",
   "execution_count": null,
   "metadata": {},
   "outputs": [],
   "source": []
  }
 ],
 "metadata": {
  "kernelspec": {
   "display_name": "Python 3",
   "language": "python",
   "name": "python3"
  },
  "language_info": {
   "codemirror_mode": {
    "name": "ipython",
    "version": 3
   },
   "file_extension": ".py",
   "mimetype": "text/x-python",
   "name": "python",
   "nbconvert_exporter": "python",
   "pygments_lexer": "ipython3",
   "version": "3.5.3"
  }
 },
 "nbformat": 4,
 "nbformat_minor": 2
}
