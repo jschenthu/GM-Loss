{
 "cells": [
  {
   "cell_type": "markdown",
   "metadata": {},
   "source": [
    "# MNIST-C Evaluation"
   ]
  },
  {
   "cell_type": "code",
   "execution_count": null,
   "metadata": {},
   "outputs": [],
   "source": [
    "import os\n",
    "import sys\n",
    "import numpy\n",
    "sys.path.insert(1, os.path.abspath('') + '/../../')\n",
    "import common.datasets\n",
    "import common.test\n",
    "import common.numpy\n",
    "import common.eval\n",
    "from experiments.eval import misc\n",
    "import torch\n",
    "torch.cuda.set_device(0)\n",
    "from IPython.display import display, Markdown"
   ]
  },
  {
   "cell_type": "code",
   "execution_count": null,
   "metadata": {},
   "outputs": [],
   "source": [
    "config_module = 'config.mnist'\n",
    "config_training_variables = [\n",
    "    'normal_training_check',\n",
    "    'adversarial_training_lr005_i40_half_momentum_backtrack_check',\n",
    "    'confidence_calibrated_adversarial_training_lr001_ce_f7p_i40_random_momentum_backtrack_power2_10',\n",
    "    'multi_steepest_descent',\n",
    "]"
   ]
  },
  {
   "cell_type": "code",
   "execution_count": null,
   "metadata": {},
   "outputs": [],
   "source": [
    "config_training_names = [\n",
    "    '\\\\Normal',\n",
    "    '\\\\AdvTrain',\n",
    "    '\\\\ConfTrain',\n",
    "    '\\\\Wong',\n",
    "]\n",
    "ood_names = [\n",
    "    'all',\n",
    "    'brightness',\n",
    "    'canny_edges',\n",
    "    'dotted_line',\n",
    "    'fog',\n",
    "    'glass_blur',\n",
    "    #'identity',\n",
    "    'impulse_noise',\n",
    "    'motion_blur',\n",
    "    'rotate',\n",
    "    'scale',\n",
    "    'shear',\n",
    "    'shot_noise',\n",
    "    'spatter',\n",
    "    'stripe',\n",
    "    'translate',\n",
    "    'zigzag',\n",
    "    #'all_after',\n",
    "]"
   ]
  },
  {
   "cell_type": "code",
   "execution_count": null,
   "metadata": {},
   "outputs": [],
   "source": [
    "config, training_configs, attack_configs = misc.module(config_module, config_training_variables, [])"
   ]
  },
  {
   "cell_type": "code",
   "execution_count": null,
   "metadata": {},
   "outputs": [],
   "source": [
    "model_files, model_epochs, perturbations_files, perturbations_epochs, new_config_training_variables, new_config_training_names = misc.load(training_configs, config_training_names, attack_configs)"
   ]
  },
  {
   "cell_type": "code",
   "execution_count": null,
   "metadata": {},
   "outputs": [],
   "source": [
    "display(Markdown(misc.epoch_table(model_epochs, perturbations_files, perturbations_epochs, config_training_names, attack_configs)))"
   ]
  },
  {
   "cell_type": "code",
   "execution_count": null,
   "metadata": {
    "scrolled": false
   },
   "outputs": [],
   "source": [
    "clean_probabilities = misc.compute_clean_probabilities(model_files, config.testloader)"
   ]
  },
  {
   "cell_type": "code",
   "execution_count": null,
   "metadata": {},
   "outputs": [],
   "source": [
    "clean_evaluations = misc.compute_clean_evaluations(config, clean_probabilities)"
   ]
  },
  {
   "cell_type": "code",
   "execution_count": null,
   "metadata": {
    "scrolled": true
   },
   "outputs": [],
   "source": [
    "oodloaders = []\n",
    "indices = list(range(9000))\n",
    "#indices = list(range(100))\n",
    "print('all')\n",
    "oodloaders.append(torch.utils.data.DataLoader(common.datasets.MNISTCTestSet(corruptions=None, indices=indices), batch_size=config.batch_size, shuffle=False, num_workers=0))\n",
    "corruptions = [\n",
    "    'brightness',\n",
    "    'canny_edges',\n",
    "    'dotted_line',\n",
    "    'fog',\n",
    "    'glass_blur',\n",
    "    #'identity',\n",
    "    'impulse_noise',\n",
    "    'motion_blur',\n",
    "    'rotate',\n",
    "    'scale',\n",
    "    'shear',\n",
    "    'shot_noise',\n",
    "    'spatter',\n",
    "    'stripe',\n",
    "    'translate',\n",
    "    'zigzag'\n",
    "]\n",
    "for i in range(len(corruptions)):\n",
    "    print(corruptions[i])\n",
    "    oodloaders.append(torch.utils.data.DataLoader(common.datasets.MNISTCTestSet(corruptions=[corruptions[i]], indices=indices), batch_size=config.batch_size, shuffle=False, num_workers=0))\n",
    "assert len(oodloaders) == len(corruptions) + 1\n",
    "for i in range(1, len(oodloaders)):\n",
    "    assert len(oodloaders[i].dataset.corruptions) == 1\n",
    "assert len(oodloaders) == len(ood_names), (len(oodloaders), len(ood_names))"
   ]
  },
  {
   "cell_type": "code",
   "execution_count": null,
   "metadata": {
    "scrolled": true
   },
   "outputs": [],
   "source": [
    "ood_evaluations = []\n",
    "all_probabilities = [None]*len(model_files)\n",
    "all_probabilities_p = [None]*len(model_files)\n",
    "for i in range(len(model_files)):\n",
    "    model, model_epochs[i] = misc.load_model(model_files[i])\n",
    "    model.eval()\n",
    "    \n",
    "    ood_evaluations_ = []\n",
    "    for j in range(len(oodloaders)):\n",
    "        oodloader = oodloaders[j]\n",
    "    \n",
    "        ood_probabilities = common.test.test(model, oodloader, cuda=True)\n",
    "        if j > 0:\n",
    "            all_probabilities[i] = common.numpy.concatenate(all_probabilities[i], numpy.expand_dims(ood_probabilities, axis=0))\n",
    "        ood_probabilities = ood_probabilities.reshape(len(oodloader.dataset.corruptions), -1, ood_probabilities.shape[1])\n",
    "        if j == 0:\n",
    "            all_probabilities_p[i] = ood_probabilities\n",
    "        ood_evaluations_.append(common.eval.CorruptedEvaluation(clean_probabilities[i], ood_probabilities, config.testset.labels))\n",
    "    ood_evaluations.append(ood_evaluations_)"
   ]
  },
  {
   "cell_type": "code",
   "execution_count": null,
   "metadata": {},
   "outputs": [],
   "source": [
    "for i in range(len(model_files)):\n",
    "    print(all_probabilities[i].shape, all_probabilities_p[i].shape)\n",
    "    assert numpy.allclose(all_probabilities[i], all_probabilities_p[i])"
   ]
  },
  {
   "cell_type": "code",
   "execution_count": null,
   "metadata": {},
   "outputs": [],
   "source": [
    "print(len(ood_names), len(ood_evaluations))\n",
    "display(Markdown(misc.corrupted_markdown_table(ood_evaluations, config_training_names, ood_names, '99')))"
   ]
  },
  {
   "cell_type": "code",
   "execution_count": null,
   "metadata": {},
   "outputs": [],
   "source": [
    "misc.corrupted_main_latex_table(config, config_training_names, ood_evaluations, '98')"
   ]
  },
  {
   "cell_type": "code",
   "execution_count": null,
   "metadata": {},
   "outputs": [],
   "source": [
    "misc.corrupted_main_latex_table(config, config_training_names, ood_evaluations, '99')"
   ]
  },
  {
   "cell_type": "code",
   "execution_count": null,
   "metadata": {
    "scrolled": false
   },
   "outputs": [],
   "source": [
    "misc.corrupted_supp_latex_table(config, config_training_names, ood_names, ood_evaluations, '99')"
   ]
  },
  {
   "cell_type": "code",
   "execution_count": null,
   "metadata": {},
   "outputs": [],
   "source": []
  }
 ],
 "metadata": {
  "kernelspec": {
   "display_name": "Python 3",
   "language": "python",
   "name": "python3"
  },
  "language_info": {
   "codemirror_mode": {
    "name": "ipython",
    "version": 3
   },
   "file_extension": ".py",
   "mimetype": "text/x-python",
   "name": "python",
   "nbconvert_exporter": "python",
   "pygments_lexer": "ipython3",
   "version": "3.5.3"
  }
 },
 "nbformat": 4,
 "nbformat_minor": 2
}
